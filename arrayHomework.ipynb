{
  "nbformat": 4,
  "nbformat_minor": 0,
  "metadata": {
    "colab": {
      "provenance": []
    },
    "kernelspec": {
      "name": "python3",
      "display_name": "Python 3"
    },
    "language_info": {
      "name": "python"
    }
  },
  "cells": [
    {
      "cell_type": "markdown",
      "source": [
        "This program works with triple binary array which have 3 columns and 3 rows .\n",
        "I will more demonstrate the code in next cellules ..\n"
      ],
      "metadata": {
        "id": "rbc6ckCihgcg"
      }
    },
    {
      "cell_type": "code",
      "source": [
        "!pip install mpi4py\n",
        "import numpy as np\n",
        "import hashlib\n",
        "from mpi4py import MPI\n",
        "from itertools import permutations\n",
        "import sys\n",
        "\n",
        "\n",
        "row,col=4,4\n",
        "\n",
        "\n",
        "comm = MPI.COMM_WORLD\n",
        "size = comm.Get_size()\n",
        "rank = comm.Get_rank()\n",
        "\n",
        "notSatisfyConstraint=True\n",
        "while notSatisfyConstraint:\n",
        "  rowSum = input('Enter sum of each row in wanted triple matrix (Should tap a space after every row sum): ')\n",
        "  for item in rowSum.split():\n",
        "\n",
        "    if item.strip().isdigit():\n",
        "       notSatisfyConstraint=False\n",
        "       if int(item)<0 or int(item)>3:\n",
        "         print('\\nAll rows sum should be bigger then or aqual to 0 and less then or equal to 3 ! Try again \\n')\n",
        "         notSatisfyConstraint=True\n",
        "         break\n",
        "    else:\n",
        "          print('Should enter only integer values! Try again so \\n')\n",
        "          break\n",
        "\n",
        "rowTuple = tuple(int(item) for item in rowSum.split())\n",
        "print(\"rows sum tuple you choised :\")\n",
        "print(rowTuple)\n",
        "\n",
        "notSatisfyConstraint=True\n",
        "while notSatisfyConstraint:\n",
        "  columnSum = input('Enter sum of each column in wanted triple matrix (Should tap a space after every column sum): ')\n",
        "  for item in columnSum.split():\n",
        "\n",
        "    if item.strip().isdigit():\n",
        "       notSatisfyConstraint=False\n",
        "       if int(item)<0 or int(item)>3:\n",
        "         print('\\nAll columns sum should be bigger then or aqual to 0 and less then or equal to 3 ! Try again \\n')\n",
        "         notSatisfyConstraint=True\n",
        "         break\n",
        "    else:\n",
        "          print('Should enter only integer values! Try again so \\n')\n",
        "          break\n",
        "columnTuple = tuple(int(item) for item in columnSum.split())\n",
        "print(\"columns sum tuple you choised :\")\n",
        "print(columnTuple)\n",
        "\n",
        "row,col=3,3\n",
        "n = row\n",
        "count = n // size\n",
        "remainder = n % size\n",
        "\n",
        "if rank < remainder:\n",
        "    start = rank * (count + 1)\n",
        "    stop = start + count + 1\n",
        "else:\n",
        "    start = rank * count + remainder\n",
        "    stop = start + count\n",
        "\n",
        "def rowSumCount(param1, param2, param3):\n",
        "    r = param1+param2+param3\n",
        "    return (r)\n",
        "\n",
        "def columnSumCount(param1, param2, param3):\n",
        "    c = param1+param2+param3\n",
        "    return (c)\n",
        "\n",
        "\n",
        "\n",
        "\n",
        "\n",
        "def countSumOfColumns(myArray):\n",
        "  portionArray = myArray[:, start:stop]\n",
        "  fArray = np.empty((portionArray.shape[0]+1, portionArray.shape[1]))\n",
        "  fArray[:portionArray.shape[0], :] = portionArray\n",
        "  fArray[-1, :] = columnSumCount(fArray[0, :], fArray[1, :], fArray[2, :])\n",
        "\n",
        "  if rank > 0:\n",
        "     comm.Send(fArray[-1, :], dest=0, tag=10)\n",
        "  else:\n",
        "    columnSumList=fArray[-1, :].copy()\n",
        "    for i in range(1, size):\n",
        "        if i < remainder:\n",
        "            rank_size = count + 1\n",
        "        else:\n",
        "            rank_size = count\n",
        "        tmp = []\n",
        "        comm.Recv(tmp, source=i, tag=10)\n",
        "        columnSumList.extend(tmp)\n",
        "    columnSum=tuple(columnSumList)\n",
        "    return (columnSum)\n",
        "\n",
        "\n",
        "\n",
        "def countSumOfRows(myArray):\n",
        "  portionArray = myArray[start:stop, :]\n",
        "  fArray = np.empty((portionArray.shape[0], portionArray.shape[1] + 1))\n",
        "  fArray[:, :portionArray.shape[1]] = portionArray\n",
        "  fArray[:, -1] = rowSumCount(fArray[:, 0], fArray[:, 1], fArray[:, 2])\n",
        "\n",
        "  if rank > 0:\n",
        "\n",
        "    comm.Send(fArray[:, -1], dest=0, tag=14)\n",
        "\n",
        "  else:\n",
        "    rowSumList=fArray[:, -1].copy()\n",
        "    for i in range(1, size):\n",
        "        if i < remainder:\n",
        "            rank_size = count + 1\n",
        "        else:\n",
        "            rank_size = count\n",
        "        tmp = []\n",
        "        comm.Recv(tmp, source=i, tag=14)\n",
        "\n",
        "        rowSumList.extend(tmp)\n",
        "    rowSum=tuple(rowSumList)\n",
        "    return (rowSum)\n",
        "\n",
        "\n",
        "def hashFor(array):\n",
        "    hashId = hashlib.md5()\n",
        "    hashId.update(repr(array).encode('utf-8'))\n",
        "    return hashId.hexdigest()\n",
        "\n",
        "existArray=True\n",
        "while True:\n",
        "      getArray = np.random.randint(2,size=(row,col))\n",
        "      if countSumOfRows(getArray) == rowTuple and countSumOfColumns(getArray) == columnTuple :\n",
        "         originalArray=getArray\n",
        "         break\n",
        "if not existArray:\n",
        "       print(\"There is no array satisfies these rows sum and columns sum constraints you entered ! Try again\")\n",
        "       sys.exit()\n",
        "\n",
        "print(f'The obtained Array ( Original array ):\\n {str(originalArray)}' )\n",
        "print(f'Original array hash : {str(hashFor(originalArray))}')\n",
        "\n",
        "\n",
        "l, firstRow, secondRow ,thirdRow = ([] for i in range(4))\n",
        "\n",
        "for rowRank,i in enumerate(rowTuple):\n",
        "\n",
        "    for j in range (i):\n",
        "        l.append(1)\n",
        "    for j in range (3-i):\n",
        "        l.append(0)\n",
        "    if rowRank==0:\n",
        "      firstRow.extend(l)\n",
        "    elif rowRank==1:\n",
        "      secondRow.extend(l)\n",
        "    elif rowRank==2:\n",
        "      thirdRow.extend(l)\n",
        "    l.clear()\n",
        "\n",
        "\n",
        "\n",
        "\n",
        "perm1 = permutations(firstRow)\n",
        "perm2 = permutations(secondRow)\n",
        "perm3 = permutations(thirdRow)\n",
        "\n",
        "list1, list2, list3 ,List1 ,List2 ,List3= ([] for i in range(6))\n",
        "for i,j,k in zip( list(perm1) ,list(perm2) ,list(perm3) ):\n",
        "    list1.append(i)\n",
        "    list2.append(j)\n",
        "    list3.append(k)\n",
        "\n",
        "\n",
        "\n",
        "\n",
        "for i,j,k in zip(list1 ,list2 ,list3):\n",
        "    if i not in List1:\n",
        "        List1.append(i)\n",
        "    if j not in List2:\n",
        "        List2.append(j)\n",
        "    if k not in List3:\n",
        "        List3.append(k)\n",
        "\n",
        "\n",
        "print(\"The similar arrays found : \")\n",
        "arrayList= []\n",
        "for i in List1:\n",
        "   arrayList.append(i)\n",
        "\n",
        "   for j in List2:\n",
        "       arrayList.append(j)\n",
        "\n",
        "       for k in List3:\n",
        "           arrayList.append(k)\n",
        "           array=np.asarray(arrayList)\n",
        "           if countSumOfRows(array) == rowTuple and countSumOfColumns(array) == columnTuple :\n",
        "              print(array)\n",
        "              if hashFor(array)==hashFor(originalArray):\n",
        "                 similarArray=array\n",
        "           del arrayList[-1]\n",
        "       del arrayList[-1]\n",
        "   del arrayList[-1]\n",
        "\n",
        "print(f'The program finally found the original array :\\n {str(similarArray)}' )\n"
      ],
      "metadata": {
        "colab": {
          "base_uri": "https://localhost:8080/"
        },
        "id": "cmqXtt1fhe0A",
        "outputId": "38dcead8-c1df-4fbc-e015-2dc800f1e686"
      },
      "execution_count": null,
      "outputs": [
        {
          "output_type": "stream",
          "name": "stdout",
          "text": [
            "Looking in indexes: https://pypi.org/simple, https://us-python.pkg.dev/colab-wheels/public/simple/\n",
            "Requirement already satisfied: mpi4py in /usr/local/lib/python3.8/dist-packages (3.1.4)\n",
            "Enter sum of each row in wanted triple matrix (Should tap a space after every row sum): 2 2 1\n",
            "rows sum tuple you choised :\n",
            "(2, 2, 1)\n",
            "Enter sum of each column in wanted triple matrix (Should tap a space after every column sum): 2 2 1\n",
            "columns sum tuple you choised :\n",
            "(2, 2, 1)\n",
            "The obtained Array ( Original array ):\n",
            " [[1 1 0]\n",
            " [0 1 1]\n",
            " [1 0 0]]\n",
            "Original array hash : 30aa70582918ccfdab500f8472fba05c\n",
            "The similar arrays found : \n",
            "[[1 1 0]\n",
            " [1 1 0]\n",
            " [0 0 1]]\n",
            "[[1 1 0]\n",
            " [1 0 1]\n",
            " [0 1 0]]\n",
            "[[1 1 0]\n",
            " [0 1 1]\n",
            " [1 0 0]]\n",
            "[[1 0 1]\n",
            " [1 1 0]\n",
            " [0 1 0]]\n",
            "[[0 1 1]\n",
            " [1 1 0]\n",
            " [1 0 0]]\n",
            "The program finally found the original array :\n",
            " [[1 1 0]\n",
            " [0 1 1]\n",
            " [1 0 0]]\n"
          ]
        }
      ]
    },
    {
      "cell_type": "code",
      "source": [],
      "metadata": {
        "id": "EBdMjzMzv4Jp"
      },
      "execution_count": null,
      "outputs": []
    },
    {
      "cell_type": "markdown",
      "source": [
        "first, I used MPI4PY to get parallel program . COMM_WORLD gives access to the number of processes (ranks/processors) available to distribute work across, and information about each processor. size gives the total number of ranks, or processors, allocated to run our program. rank gives the identifier of the processor currently executing the code.\n",
        "Then, the user enter values for each row sum , but must after every values should enter space , if one of values entered was not integer there will be error message which asks for user to reenter new value. one more error message will appears when one of values more then 3 or less then 0 entered.\n",
        "The same thing about columns sum.\n"
      ],
      "metadata": {
        "id": "eb1DwOeMidHf"
      }
    },
    {
      "cell_type": "code",
      "source": [
        "comm = MPI.COMM_WORLD\n",
        "size = comm.Get_size()\n",
        "rank = comm.Get_rank()\n",
        "\n",
        "notSatisfyConstraint=True\n",
        "while notSatisfyConstraint:\n",
        "  rowSum = input('Enter sum of each row in wanted triple matrix (Should tap a space after every row sum): ')\n",
        "  for item in rowSum.split():\n",
        "\n",
        "    if item.strip().isdigit():\n",
        "       notSatisfyConstraint=False\n",
        "       if int(item)<0 or int(item)>3:\n",
        "         print('\\nAll rows sum should be bigger then or aqual to 0 and less then or equal to 3 ! Try again \\n')\n",
        "         notSatisfyConstraint=True\n",
        "         break\n",
        "    else:\n",
        "          print('Should enter only integer values! Try again so \\n')\n",
        "          break\n",
        "\n",
        "rowTuple = tuple(int(item) for item in rowSum.split())\n",
        "print(\"rows sum tuple you choised :\")\n",
        "print(rowTuple)\n",
        "\n",
        "notSatisfyConstraint=True\n",
        "while notSatisfyConstraint:\n",
        "  columnSum = input('Enter sum of each column in wanted triple matrix (Should tap a space after every column sum): ')\n",
        "  for item in columnSum.split():\n",
        "\n",
        "    if item.strip().isdigit():\n",
        "       notSatisfyConstraint=False\n",
        "       if int(item)<0 or int(item)>3:\n",
        "         print('\\nAll columns sum should be bigger then or aqual to 0 and less then or equal to 3 ! Try again \\n')\n",
        "         notSatisfyConstraint=True\n",
        "         break\n",
        "    else:\n",
        "          print('Should enter only integer values! Try again so \\n')\n",
        "          break\n",
        "columnTuple = tuple(int(item) for item in columnSum.split())\n",
        "print(\"columns sum tuple you choised :\")\n",
        "print(columnTuple)\n"
      ],
      "metadata": {
        "id": "nQhSNB1tiLEZ"
      },
      "execution_count": null,
      "outputs": []
    },
    {
      "cell_type": "markdown",
      "source": [
        "Now, divide up the list of array, assigning a chunk of the array to each process (or rank). The number of rows in array (3) , so it can oddly divisible by the number of processors, so that we have to do a little extra math to break up . Now each processor has a variable indexing the start and stop locations of its chunk in the array.\n",
        "\n"
      ],
      "metadata": {
        "id": "ORS2ffl4k33_"
      }
    },
    {
      "cell_type": "code",
      "source": [
        "row,col=3,3\n",
        "n = row\n",
        "count = n // size\n",
        "remainder = n % size\n",
        "\n",
        "if rank < remainder:\n",
        "    start = rank * (count + 1)\n",
        "    stop = start + count + 1\n",
        "else:\n",
        "    start = rank * count + remainder\n",
        "    stop = start + count\n",
        "\n"
      ],
      "metadata": {
        "id": "wcfniJ9_j4Xu"
      },
      "execution_count": null,
      "outputs": []
    },
    {
      "cell_type": "markdown",
      "source": [
        "Here ,I defined 2 functions which first one add the values param1+param2+param3 wich next will be the value of each row in array , and the other the same operation but will applied with values of each rows."
      ],
      "metadata": {
        "id": "OCMppYsZpgFc"
      }
    },
    {
      "cell_type": "code",
      "source": [
        "def rowSumCount(param1, param2, param3):\n",
        "    r = param1+param2+param3\n",
        "    return (r)\n",
        "\n",
        "def columnSumCount(param1, param2, param3):\n",
        "    c = param1+param2+param3\n",
        "    return (c)"
      ],
      "metadata": {
        "id": "yggLc5ohpfKt"
      },
      "execution_count": null,
      "outputs": []
    },
    {
      "cell_type": "markdown",
      "source": [
        "here , I used to final result to be an array with myArray values and function result for each array set. Create an empty array, fArray (finalArray) with the same number of rows as the original array and one extra column to store the results. Then run columnSumCount function for each array set and save the result in the result array (fArray).Now each processor has results for its chunk of the parms array.\n",
        "\n",
        "then ,the sending of fArray arrays from each rank to rank ‘0’, where they are combined to a single array.I specify the rank to send to , dest, and a tag so the receiving rank knows which value to retrieve .\n",
        "\n",
        "For the receiving rank (0),There is loop through all the other ranks, creating an empty list, and I retrieve the sent values from each rank with Recv, specifying the rank to receive from and the tag. Finally for each receiving value, it will be add in list columnSumList and .\n",
        "The same thing with rowSumCount."
      ],
      "metadata": {
        "id": "rgkkWtpekANQ"
      }
    },
    {
      "cell_type": "code",
      "source": [
        "def countSumOfColumns(myArray):\n",
        "  portionArray = myArray[:, start:stop]\n",
        "  fArray = np.empty((portionArray.shape[0]+1, portionArray.shape[1]))\n",
        "  fArray[:portionArray.shape[0], :] = portionArray\n",
        "  fArray[-1, :] = columnSumCount(fArray[0, :], fArray[1, :], fArray[2, :])\n",
        "\n",
        "  if rank > 0:\n",
        "     comm.Send(fArray[-1, :], dest=0, tag=10)\n",
        "  else:\n",
        "    columnSumList=fArray[-1, :].copy()\n",
        "    for i in range(1, size):\n",
        "        if i < remainder:\n",
        "            rank_size = count + 1\n",
        "        else:\n",
        "            rank_size = count\n",
        "        tmp = []\n",
        "        comm.Recv(tmp, source=i, tag=10)\n",
        "        columnSumList.extend(tmp)\n",
        "    columnSum=tuple(columnSumList)\n",
        "    return (columnSum)\n",
        "\n",
        "\n",
        "\n",
        "def countSumOfRows(myArray):\n",
        "  portionArray = myArray[start:stop, :]\n",
        "  fArray = np.empty((portionArray.shape[0], portionArray.shape[1] + 1))\n",
        "  fArray[:, :portionArray.shape[1]] = portionArray\n",
        "  fArray[:, -1] = rowSumCount(fArray[:, 0], fArray[:, 1], fArray[:, 2])\n",
        "\n",
        "  if rank > 0:\n",
        "\n",
        "    comm.Send(fArray[:, -1], dest=0, tag=14)\n",
        "\n",
        "  else:\n",
        "    rowSumList=fArray[:, -1].copy()\n",
        "    for i in range(1, size):\n",
        "        if i < remainder:\n",
        "            rank_size = count + 1\n",
        "        else:\n",
        "            rank_size = count\n",
        "        tmp = []\n",
        "        comm.Recv(tmp, source=i, tag=14)\n",
        "\n",
        "        rowSumList.extend(tmp)\n",
        "    rowSum=tuple(rowSumList)\n",
        "    return (rowSum)\n",
        "\n"
      ],
      "metadata": {
        "id": "zkJuzLD3qeOo"
      },
      "execution_count": null,
      "outputs": []
    },
    {
      "cell_type": "markdown",
      "source": [
        "The difinition of array hash function.\n",
        "Then, the program will search for a random triple binary array specifies rows sum and columns sum the user entered."
      ],
      "metadata": {
        "id": "D-QM6795uCqo"
      }
    },
    {
      "cell_type": "code",
      "source": [
        "def hashFor(array):\n",
        "    hashId = hashlib.md5()\n",
        "    hashId.update(repr(array).encode('utf-8'))\n",
        "    return hashId.hexdigest()\n",
        "\n",
        "existArray=True\n",
        "while True:\n",
        "      getArray = np.random.randint(2,size=(row,col))\n",
        "      if countSumOfRows(getArray) == rowTuple and countSumOfColumns(getArray) == columnTuple :\n",
        "         originalArray=getArray\n",
        "         break\n",
        "if not existArray:\n",
        "       print(\"There is no array satisfies these rows sum and columns sum constraints you entered ! Try again\")\n",
        "       sys.exit()\n",
        "\n",
        "print(f'The obtained Array ( Original array ):\\n {str(originalArray)}' )\n",
        "print(f'Original array hash : {str(hashFor(originalArray))}')\n"
      ],
      "metadata": {
        "id": "xWf44-DGuDGy"
      },
      "execution_count": null,
      "outputs": []
    },
    {
      "cell_type": "markdown",
      "source": [
        "Try to construct lists wich all of them are one row of the original array ,\n",
        "starting from the number of 1 in the row sum tuple. that means if we have 2, in first loop the programm fills in the list with 2 ones , then it stays one more place in list (because we have 3 items ) the program fills in it with zero.\n",
        "for example when row sum tuple is (2, 2, 3)\n",
        "the lists of array that will be constructed later :\n",
        "[1, 1, 0]\n",
        "[1, 1, 0]\n",
        "[1, 1, 1]\n",
        "but we will apply permutations with all of this lists (as rows of array)\n"
      ],
      "metadata": {
        "id": "BfvBrTIEu3gV"
      }
    },
    {
      "cell_type": "code",
      "source": [
        "l, firstRow, secondRow ,thirdRow = ([] for i in range(4))\n",
        "\n",
        "for rowRank,i in enumerate(rowTuple):\n",
        "\n",
        "    for j in range (i):\n",
        "        l.append(1)\n",
        "    for j in range (3-i):\n",
        "        l.append(0)\n",
        "    if rowRank==0:\n",
        "      firstRow.extend(l)\n",
        "    elif rowRank==1:\n",
        "      secondRow.extend(l)\n",
        "    elif rowRank==2:\n",
        "      thirdRow.extend(l)\n",
        "    l.clear()\n",
        "\n"
      ],
      "metadata": {
        "id": "7yVR-ic2utph"
      },
      "execution_count": null,
      "outputs": []
    },
    {
      "cell_type": "markdown",
      "source": [
        "construct all permutations of every list we obtained (every row list above)"
      ],
      "metadata": {
        "id": "kDDgNsn0v6_Z"
      }
    },
    {
      "cell_type": "code",
      "source": [
        "perm1 = permutations(firstRow)\n",
        "perm2 = permutations(secondRow)\n",
        "perm3 = permutations(thirdRow)\n",
        "\n",
        "list1, list2, list3 ,List1 ,List2 ,List3= ([] for i in range(6))\n",
        "for i,j,k in zip( list(perm1) ,list(perm2) ,list(perm3) ):\n",
        "    list1.append(i)\n",
        "    list2.append(j)\n",
        "    list3.append(k)\n",
        "\n"
      ],
      "metadata": {
        "id": "mK484LLyvwQI"
      },
      "execution_count": null,
      "outputs": []
    },
    {
      "cell_type": "markdown",
      "source": [
        "probably one of row sum values, if not all of them ,will be 2 for example ,that means the permutations of the list [1, 1, 0] will have 2 similar permutation ([1, 1, 0], [1, 1, 0]) with two values of 1 , but we should avoid the similar permutations , and for that I tried to create new row lists for applying permutation without repetition .\n"
      ],
      "metadata": {
        "id": "RXc51-Kewb9j"
      }
    },
    {
      "cell_type": "code",
      "source": [
        "for i,j,k in zip(list1 ,list2 ,list3):\n",
        "    if i not in List1:\n",
        "        List1.append(i)\n",
        "    if j not in List2:\n",
        "        List2.append(j)\n",
        "    if k not in List3:\n",
        "        List3.append(k)\n",
        "\n"
      ],
      "metadata": {
        "id": "dxqXZuhDuAkd"
      },
      "execution_count": null,
      "outputs": []
    },
    {
      "cell_type": "markdown",
      "source": [
        "the last part of this program represents the array wich we got it as a result of composition of each permutations of each list with all permutations of the other lists .Once we obtain an triple array ,we confirm if it has same rows sum and columns sum and print it as similar array , then we compare it's hash with the original array hash, if it is valid we can class it as the original array."
      ],
      "metadata": {
        "id": "bvQT-PGtxvtu"
      }
    },
    {
      "cell_type": "code",
      "source": [
        "print(\"The similar arrays found : \")\n",
        "arrayList= []\n",
        "for i in List1:\n",
        "   arrayList.append(i)\n",
        "\n",
        "   for j in List2:\n",
        "       arrayList.append(j)\n",
        "\n",
        "       for k in List3:\n",
        "           arrayList.append(k)\n",
        "           array=np.asarray(arrayList)\n",
        "           if countSumOfRows(array) == rowTuple and countSumOfColumns(array) == columnTuple :\n",
        "              print(array)\n",
        "              if hashFor(array)==hashFor(originalArray):\n",
        "                 similarArray=array\n",
        "           del arrayList[-1]\n",
        "       del arrayList[-1]\n",
        "   del arrayList[-1]\n",
        "\n",
        "print(f'The program finally found the original array :\\n {str(similarArray)}' )"
      ],
      "metadata": {
        "id": "4CNhlrM0waxX"
      },
      "execution_count": null,
      "outputs": []
    }
  ]
}